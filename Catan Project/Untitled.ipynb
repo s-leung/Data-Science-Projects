{
 "cells": [
  {
   "cell_type": "code",
   "execution_count": 1,
   "metadata": {
    "collapsed": true
   },
   "outputs": [],
   "source": [
    "import pandas as pd\n",
    "import numpy as np\n",
    "import matplotlib.pyplot as plt\n",
    "%matplotlib inline\n",
    "import seaborn as sns\n",
    "sns.set()\n"
   ]
  },
  {
   "cell_type": "code",
   "execution_count": 2,
   "metadata": {
    "collapsed": true
   },
   "outputs": [],
   "source": [
    "df = pd.read_csv('catanstats.csv')"
   ]
  },
  {
   "cell_type": "code",
   "execution_count": 3,
   "metadata": {
    "collapsed": false
   },
   "outputs": [
    {
     "data": {
      "text/html": [
       "<div>\n",
       "<table border=\"1\" class=\"dataframe\">\n",
       "  <thead>\n",
       "    <tr style=\"text-align: right;\">\n",
       "      <th></th>\n",
       "      <th>gameNum</th>\n",
       "      <th>player</th>\n",
       "      <th>points</th>\n",
       "      <th>me</th>\n",
       "      <th>2</th>\n",
       "      <th>3</th>\n",
       "      <th>4</th>\n",
       "      <th>5</th>\n",
       "      <th>6</th>\n",
       "      <th>7</th>\n",
       "      <th>...</th>\n",
       "      <th>Unnamed: 26</th>\n",
       "      <th>production</th>\n",
       "      <th>tradeGain</th>\n",
       "      <th>robberCardsGain</th>\n",
       "      <th>totalGain</th>\n",
       "      <th>tradeLoss</th>\n",
       "      <th>robberCardsLoss</th>\n",
       "      <th>tribute</th>\n",
       "      <th>totalLoss</th>\n",
       "      <th>totalAvailable</th>\n",
       "    </tr>\n",
       "  </thead>\n",
       "  <tbody>\n",
       "    <tr>\n",
       "      <th>0</th>\n",
       "      <td>1</td>\n",
       "      <td>1</td>\n",
       "      <td>5</td>\n",
       "      <td>NaN</td>\n",
       "      <td>1</td>\n",
       "      <td>3</td>\n",
       "      <td>5</td>\n",
       "      <td>8</td>\n",
       "      <td>7</td>\n",
       "      <td>10</td>\n",
       "      <td>...</td>\n",
       "      <td>O</td>\n",
       "      <td>38</td>\n",
       "      <td>5</td>\n",
       "      <td>2</td>\n",
       "      <td>45</td>\n",
       "      <td>10</td>\n",
       "      <td>2</td>\n",
       "      <td>4</td>\n",
       "      <td>16</td>\n",
       "      <td>29</td>\n",
       "    </tr>\n",
       "    <tr>\n",
       "      <th>1</th>\n",
       "      <td>1</td>\n",
       "      <td>2</td>\n",
       "      <td>9</td>\n",
       "      <td>1.0</td>\n",
       "      <td>1</td>\n",
       "      <td>3</td>\n",
       "      <td>5</td>\n",
       "      <td>8</td>\n",
       "      <td>7</td>\n",
       "      <td>10</td>\n",
       "      <td>...</td>\n",
       "      <td>O</td>\n",
       "      <td>48</td>\n",
       "      <td>8</td>\n",
       "      <td>6</td>\n",
       "      <td>62</td>\n",
       "      <td>11</td>\n",
       "      <td>1</td>\n",
       "      <td>8</td>\n",
       "      <td>20</td>\n",
       "      <td>42</td>\n",
       "    </tr>\n",
       "    <tr>\n",
       "      <th>2</th>\n",
       "      <td>1</td>\n",
       "      <td>3</td>\n",
       "      <td>10</td>\n",
       "      <td>NaN</td>\n",
       "      <td>1</td>\n",
       "      <td>3</td>\n",
       "      <td>5</td>\n",
       "      <td>8</td>\n",
       "      <td>7</td>\n",
       "      <td>10</td>\n",
       "      <td>...</td>\n",
       "      <td>C</td>\n",
       "      <td>44</td>\n",
       "      <td>14</td>\n",
       "      <td>9</td>\n",
       "      <td>67</td>\n",
       "      <td>24</td>\n",
       "      <td>4</td>\n",
       "      <td>0</td>\n",
       "      <td>28</td>\n",
       "      <td>39</td>\n",
       "    </tr>\n",
       "    <tr>\n",
       "      <th>3</th>\n",
       "      <td>1</td>\n",
       "      <td>4</td>\n",
       "      <td>5</td>\n",
       "      <td>NaN</td>\n",
       "      <td>1</td>\n",
       "      <td>3</td>\n",
       "      <td>5</td>\n",
       "      <td>8</td>\n",
       "      <td>7</td>\n",
       "      <td>10</td>\n",
       "      <td>...</td>\n",
       "      <td>S</td>\n",
       "      <td>42</td>\n",
       "      <td>12</td>\n",
       "      <td>0</td>\n",
       "      <td>54</td>\n",
       "      <td>24</td>\n",
       "      <td>6</td>\n",
       "      <td>0</td>\n",
       "      <td>30</td>\n",
       "      <td>24</td>\n",
       "    </tr>\n",
       "    <tr>\n",
       "      <th>4</th>\n",
       "      <td>2</td>\n",
       "      <td>1</td>\n",
       "      <td>10</td>\n",
       "      <td>NaN</td>\n",
       "      <td>1</td>\n",
       "      <td>6</td>\n",
       "      <td>3</td>\n",
       "      <td>9</td>\n",
       "      <td>10</td>\n",
       "      <td>8</td>\n",
       "      <td>...</td>\n",
       "      <td>2L</td>\n",
       "      <td>60</td>\n",
       "      <td>15</td>\n",
       "      <td>16</td>\n",
       "      <td>91</td>\n",
       "      <td>28</td>\n",
       "      <td>10</td>\n",
       "      <td>0</td>\n",
       "      <td>38</td>\n",
       "      <td>53</td>\n",
       "    </tr>\n",
       "  </tbody>\n",
       "</table>\n",
       "<p>5 rows × 36 columns</p>\n",
       "</div>"
      ],
      "text/plain": [
       "   gameNum  player  points   me  2  3  4  5   6   7       ...        \\\n",
       "0        1       1       5  NaN  1  3  5  8   7  10       ...         \n",
       "1        1       2       9  1.0  1  3  5  8   7  10       ...         \n",
       "2        1       3      10  NaN  1  3  5  8   7  10       ...         \n",
       "3        1       4       5  NaN  1  3  5  8   7  10       ...         \n",
       "4        2       1      10  NaN  1  6  3  9  10   8       ...         \n",
       "\n",
       "   Unnamed: 26  production  tradeGain  robberCardsGain  totalGain  tradeLoss  \\\n",
       "0            O          38          5                2         45         10   \n",
       "1            O          48          8                6         62         11   \n",
       "2            C          44         14                9         67         24   \n",
       "3            S          42         12                0         54         24   \n",
       "4           2L          60         15               16         91         28   \n",
       "\n",
       "  robberCardsLoss  tribute totalLoss  totalAvailable  \n",
       "0               2        4        16              29  \n",
       "1               1        8        20              42  \n",
       "2               4        0        28              39  \n",
       "3               6        0        30              24  \n",
       "4              10        0        38              53  \n",
       "\n",
       "[5 rows x 36 columns]"
      ]
     },
     "execution_count": 3,
     "metadata": {},
     "output_type": "execute_result"
    }
   ],
   "source": [
    "df.head()"
   ]
  },
  {
   "cell_type": "code",
   "execution_count": 4,
   "metadata": {
    "collapsed": false
   },
   "outputs": [
    {
     "name": "stdout",
     "output_type": "stream",
     "text": [
      "<class 'pandas.core.frame.DataFrame'>\n",
      "RangeIndex: 200 entries, 0 to 199\n",
      "Data columns (total 36 columns):\n",
      "gameNum            200 non-null int64\n",
      "player             200 non-null int64\n",
      "points             200 non-null int64\n",
      "me                 50 non-null float64\n",
      "2                  200 non-null int64\n",
      "3                  200 non-null int64\n",
      "4                  200 non-null int64\n",
      "5                  200 non-null int64\n",
      "6                  200 non-null int64\n",
      "7                  200 non-null int64\n",
      "8                  200 non-null int64\n",
      "9                  200 non-null int64\n",
      "10                 200 non-null int64\n",
      "11                 200 non-null int64\n",
      "12                 200 non-null int64\n",
      "settlement1        200 non-null int64\n",
      "Unnamed: 16        200 non-null object\n",
      "Unnamed: 17        200 non-null int64\n",
      "Unnamed: 18        200 non-null object\n",
      "Unnamed: 19        200 non-null int64\n",
      "Unnamed: 20        200 non-null object\n",
      "settlement2        200 non-null int64\n",
      "Unnamed: 22        200 non-null object\n",
      "Unnamed: 23        200 non-null int64\n",
      "Unnamed: 24        200 non-null object\n",
      "Unnamed: 25        200 non-null int64\n",
      "Unnamed: 26        200 non-null object\n",
      "production         200 non-null int64\n",
      "tradeGain          200 non-null int64\n",
      "robberCardsGain    200 non-null int64\n",
      "totalGain          200 non-null int64\n",
      "tradeLoss          200 non-null int64\n",
      "robberCardsLoss    200 non-null int64\n",
      "tribute            200 non-null int64\n",
      "totalLoss          200 non-null int64\n",
      "totalAvailable     200 non-null int64\n",
      "dtypes: float64(1), int64(29), object(6)\n",
      "memory usage: 56.3+ KB\n"
     ]
    }
   ],
   "source": [
    "df.info()"
   ]
  },
  {
   "cell_type": "code",
   "execution_count": 10,
   "metadata": {
    "collapsed": false
   },
   "outputs": [
    {
     "data": {
      "text/plain": [
       "7     10.98\n",
       "6      9.16\n",
       "8      8.82\n",
       "5      7.40\n",
       "9      7.38\n",
       "10     5.06\n",
       "4      4.70\n",
       "3      3.96\n",
       "11     3.38\n",
       "12     1.74\n",
       "2      1.70\n",
       "dtype: float64"
      ]
     },
     "execution_count": 10,
     "metadata": {},
     "output_type": "execute_result"
    }
   ],
   "source": [
    "df.loc[:,'2':'12'].apply(lambda x: np.mean(x)).sort_values(ascending=False)"
   ]
  },
  {
   "cell_type": "code",
   "execution_count": null,
   "metadata": {
    "collapsed": false
   },
   "outputs": [],
   "source": []
  },
  {
   "cell_type": "code",
   "execution_count": null,
   "metadata": {
    "collapsed": true
   },
   "outputs": [],
   "source": []
  }
 ],
 "metadata": {
  "anaconda-cloud": {},
  "kernelspec": {
   "display_name": "Python [default]",
   "language": "python",
   "name": "python2"
  },
  "language_info": {
   "codemirror_mode": {
    "name": "ipython",
    "version": 2
   },
   "file_extension": ".py",
   "mimetype": "text/x-python",
   "name": "python",
   "nbconvert_exporter": "python",
   "pygments_lexer": "ipython2",
   "version": "2.7.12"
  }
 },
 "nbformat": 4,
 "nbformat_minor": 1
}
